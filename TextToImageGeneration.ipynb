{
  "nbformat": 4,
  "nbformat_minor": 0,
  "metadata": {
    "colab": {
      "provenance": [],
      "toc_visible": true,
      "authorship_tag": "ABX9TyMzdiPkNmmgmx30pIJ9hsez",
      "include_colab_link": true
    },
    "kernelspec": {
      "name": "python3",
      "display_name": "Python 3"
    },
    "language_info": {
      "name": "python"
    }
  },
  "cells": [
    {
      "cell_type": "markdown",
      "metadata": {
        "id": "view-in-github",
        "colab_type": "text"
      },
      "source": [
        "<a href=\"https://colab.research.google.com/github/ShefaRahatAli/Brainwave-Matrix-Solution/blob/main/TextToImageGeneration.ipynb\" target=\"_parent\"><img src=\"https://colab.research.google.com/assets/colab-badge.svg\" alt=\"Open In Colab\"/></a>"
      ]
    },
    {
      "cell_type": "code",
      "source": [
        "import nbformat\n",
        "\n",
        "# ✅ Exact uploaded filename\n",
        "file_path = \"/content/TextToImageGeneration.ipynb\"\n",
        "\n",
        "# 📥 Load the notebook\n",
        "with open(file_path, \"r\", encoding=\"utf-8\") as f:\n",
        "    nb = nbformat.read(f, as_version=4)\n",
        "\n",
        "# 🧹 Remove widget metadata (fixes GitHub rendering issue)\n",
        "if \"widgets\" in nb[\"metadata\"]:\n",
        "    del nb[\"metadata\"][\"widgets\"]\n",
        "\n",
        "# 💾 Save to a new cleaned file\n",
        "cleaned_path = \"/content/TextToImageGeneration_Clean.ipynb\"\n",
        "with open(cleaned_path, \"w\", encoding=\"utf-8\") as f:\n",
        "    nbformat.write(nb, f)\n",
        "\n",
        "print(\"✔ Notebook cleaned! Download 'TextToImageGeneration_Clean.ipynb' from the sidebar.\")\n"
      ],
      "metadata": {
        "colab": {
          "base_uri": "https://localhost:8080/"
        },
        "id": "6m5cbx81FkRP",
        "outputId": "bd10a1cf-02c3-4c08-a63a-3ebff9463009"
      },
      "execution_count": 7,
      "outputs": [
        {
          "output_type": "stream",
          "name": "stdout",
          "text": [
            "✔ Notebook cleaned! Download 'TextToImageGeneration_Clean.ipynb' from the sidebar.\n"
          ]
        }
      ]
    }
  ]
}