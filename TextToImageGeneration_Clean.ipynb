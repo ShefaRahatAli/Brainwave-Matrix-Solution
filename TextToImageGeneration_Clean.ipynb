{
  "nbformat": 4,
  "nbformat_minor": 0,
  "metadata": {
    "colab": {
      "provenance": [],
      "authorship_tag": "ABX9TyOpOjSyrdPnFZmcMOj+vKfc",
      "include_colab_link": true
    },
    "kernelspec": {
      "name": "python3",
      "display_name": "Python 3"
    },
    "language_info": {
      "name": "python"
    }
  },
  "cells": [
    {
      "cell_type": "markdown",
      "metadata": {
        "id": "view-in-github",
        "colab_type": "text"
      },
      "source": [
        "<a href=\"https://colab.research.google.com/github/ShefaRahatAli/Brainwave-Matrix-Solution/blob/main/TextToImageGeneration_Clean.ipynb\" target=\"_parent\"><img src=\"https://colab.research.google.com/assets/colab-badge.svg\" alt=\"Open In Colab\"/></a>"
      ]
    },
    {
      "cell_type": "code",
      "source": [
        "import nbformat\n",
        "\n",
        "# Set the path to your notebook\n",
        "file_path = \"/content/TextToImageGeneration.ipynb\"\n",
        "\n",
        "# Load the notebook\n",
        "with open(file_path, \"r\", encoding=\"utf-8\") as f:\n",
        "    nb = nbformat.read(f, as_version=4)\n",
        "\n",
        "# Remove all 'widgets' metadata to fix GitHub rendering issues\n",
        "if \"widgets\" in nb[\"metadata\"]:\n",
        "    del nb[\"metadata\"][\"widgets\"]\n",
        "\n",
        "# Save the cleaned notebook\n",
        "cleaned_path = \"/content/TextToImageGeneration_Clean.ipynb\"\n",
        "with open(cleaned_path, \"w\", encoding=\"utf-8\") as f:\n",
        "    nbformat.write(nb, f)\n",
        "\n",
        "print(\"✔ Notebook cleaned successfully! Download 'TextToImageGeneration_Clean.ipynb' from the sidebar.\")\n"
      ],
      "metadata": {
        "colab": {
          "base_uri": "https://localhost:8080/"
        },
        "id": "2OPaUc7CKlDV",
        "outputId": "d994b3a9-5ae7-461a-fa93-0a42747dfb00"
      },
      "execution_count": 10,
      "outputs": [
        {
          "output_type": "stream",
          "name": "stdout",
          "text": [
            "✔ Notebook cleaned successfully! Download 'TextToImageGeneration_Clean.ipynb' from the sidebar.\n"
          ]
        }
      ]
    }
  ]
}