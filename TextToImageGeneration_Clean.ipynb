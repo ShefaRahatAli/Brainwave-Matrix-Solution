{
  "nbformat": 4,
  "nbformat_minor": 0,
  "metadata": {
    "colab": {
      "provenance": []
    },
    "kernelspec": {
      "name": "python3",
      "display_name": "Python 3"
    },
    "language_info": {
      "name": "python"
    }
  },
  "cells": [
    {
      "cell_type": "code",
      "source": [
        "import nbformat\n",
        "\n",
        "# ✅ Exact uploaded filename\n",
        "file_path = \"/content/TextToImageGeneration.ipynb\"\n",
        "\n",
        "# 📥 Load the notebook\n",
        "with open(file_path, \"r\", encoding=\"utf-8\") as f:\n",
        "    nb = nbformat.read(f, as_version=4)\n",
        "\n",
        "# 🧹 Remove widget metadata (fixes GitHub rendering issue)\n",
        "if \"widgets\" in nb[\"metadata\"]:\n",
        "    del nb[\"metadata\"][\"widgets\"]\n",
        "\n",
        "# 💾 Save to a new cleaned file\n",
        "cleaned_path = \"/content/TextToImageGeneration_Clean.ipynb\"\n",
        "with open(cleaned_path, \"w\", encoding=\"utf-8\") as f:\n",
        "    nbformat.write(nb, f)\n",
        "\n",
        "print(\"✔ Notebook cleaned! Download 'TextToImageGeneration_Clean.ipynb' from the sidebar.\")\n"
      ],
      "metadata": {
        "colab": {
          "base_uri": "https://localhost:8080/"
        },
        "id": "6m5cbx81FkRP",
        "outputId": "902b0568-dacd-4a53-9bb6-1b9dbaa38539"
      },
      "execution_count": 8,
      "outputs": [
        {
          "output_type": "stream",
          "name": "stdout",
          "text": [
            "✔ Notebook cleaned! Download 'TextToImageGeneration_Clean.ipynb' from the sidebar.\n"
          ]
        }
      ]
    },
    {
      "cell_type": "code",
      "source": [
        "import nbformat\n",
        "\n",
        "# Exact uploaded filename\n",
        "file_path = \"/content/TextToImageGeneration.ipynb\"\n",
        "\n",
        "# Load the notebook\n",
        "with open(file_path, \"r\", encoding=\"utf-8\") as f:\n",
        "    nb = nbformat.read(f, as_version=4)\n",
        "\n",
        "# Safely remove 'widgets' metadata from the notebook to fix rendering\n",
        "if \"widgets\" in nb[\"metadata\"]:\n",
        "    del nb[\"metadata\"][\"widgets\"]\n",
        "\n",
        "# Save the cleaned version\n",
        "cleaned_path = \"/content/TextToImageGeneration_Clean.ipynb\"\n",
        "with open(cleaned_path, \"w\", encoding=\"utf-8\") as f:\n",
        "    nbformat.write(nb, f)\n",
        "\n",
        "print(\"✔ Cleaned successfully! Download 'TextToImageGeneration_Clean.ipynb' from the sidebar.\")\n"
      ],
      "metadata": {
        "id": "pGalYi2pHe2w",
        "outputId": "bb707594-0559-4519-ee9c-460874880e99",
        "colab": {
          "base_uri": "https://localhost:8080/"
        }
      },
      "execution_count": 9,
      "outputs": [
        {
          "output_type": "stream",
          "name": "stdout",
          "text": [
            "✔ Cleaned successfully! Download 'TextToImageGeneration_Clean.ipynb' from the sidebar.\n"
          ]
        }
      ]
    }
  ]
}