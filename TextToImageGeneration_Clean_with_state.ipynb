{
  "nbformat": 4,
  "nbformat_minor": 0,
  "metadata": {
    "colab": {
      "provenance": [],
      "authorship_tag": "ABX9TyPWPGQVHD4Xstmet1X3MXzv",
      "include_colab_link": true
    },
    "kernelspec": {
      "name": "python3",
      "display_name": "Python 3"
    },
    "language_info": {
      "name": "python"
    }
  },
  "cells": [
    {
      "cell_type": "markdown",
      "metadata": {
        "id": "view-in-github",
        "colab_type": "text"
      },
      "source": [
        "<a href=\"https://colab.research.google.com/github/ShefaRahatAli/Brainwave-Matrix-Solution/blob/main/TextToImageGeneration_Clean_with_state.ipynb\" target=\"_parent\"><img src=\"https://colab.research.google.com/assets/colab-badge.svg\" alt=\"Open In Colab\"/></a>"
      ]
    },
    {
      "cell_type": "code",
      "execution_count": 5,
      "metadata": {
        "colab": {
          "base_uri": "https://localhost:8080/"
        },
        "id": "NXuxyVUNIQBc",
        "outputId": "140482e7-5b54-477e-a1d1-16e8cb273723"
      },
      "outputs": [
        {
          "output_type": "stream",
          "name": "stdout",
          "text": [
            "✔ Notebook cleaned with widgets state restored! Download 'TextToImageGeneration_Clean_with_state.ipynb' from the sidebar.\n"
          ]
        }
      ],
      "source": [
        "import nbformat\n",
        "\n",
        "# Exact uploaded filename\n",
        "file_path = \"/content/TextToImageGeneration.ipynb\"\n",
        "\n",
        "# Load the notebook\n",
        "with open(file_path, \"r\", encoding=\"utf-8\") as f:\n",
        "    nb = nbformat.read(f, as_version=4)\n",
        "\n",
        "# Check and add 'state' to widgets metadata\n",
        "if \"widgets\" in nb[\"metadata\"]:\n",
        "    for widget in nb[\"metadata\"][\"widgets\"]:\n",
        "        if \"state\" not in widget:\n",
        "            widget[\"state\"] = {}  # Add a default empty state if missing\n",
        "\n",
        "# Save the notebook with updated widget metadata\n",
        "cleaned_path = \"/content/TextToImageGeneration_Clean_with_state.ipynb\"\n",
        "with open(cleaned_path, \"w\", encoding=\"utf-8\") as f:\n",
        "    nbformat.write(nb, f)\n",
        "\n",
        "print(\"✔ Notebook cleaned with widgets state restored! Download 'TextToImageGeneration_Clean_with_state.ipynb' from the sidebar.\")\n"
      ]
    }
  ]
}