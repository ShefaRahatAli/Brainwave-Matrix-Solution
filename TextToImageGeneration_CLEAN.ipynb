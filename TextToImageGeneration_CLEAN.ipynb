{
  "nbformat": 4,
  "nbformat_minor": 0,
  "metadata": {
    "colab": {
      "provenance": []
    },
    "kernelspec": {
      "name": "python3",
      "display_name": "Python 3"
    },
    "language_info": {
      "name": "python"
    }
  },
  "cells": [
    {
      "cell_type": "code",
      "source": [
        "import nbformat\n",
        "\n",
        "# Save the current notebook cleanly\n",
        "notebook_path = \"/content/TextToImageGeneration_CLEAN.ipynb\"\n",
        "\n",
        "with open(notebook_path, \"w\", encoding=\"utf-8\") as f:\n",
        "    nbformat.write(nbformat.from_dict({\n",
        "        \"cells\": nbformat.reads(open(\"/content/TextToImageGeneration.ipynb\").read(), as_version=4)[\"cells\"],\n",
        "        \"metadata\": {},\n",
        "        \"nbformat\": 4,\n",
        "        \"nbformat_minor\": 0\n",
        "    }), f)\n",
        "\n",
        "print(\"✅ Clean notebook saved:\", notebook_path)\n"
      ],
      "metadata": {
        "colab": {
          "base_uri": "https://localhost:8080/"
        },
        "id": "YIWMwBuCQt-z",
        "outputId": "e982916d-c864-4891-abaf-779c7ee0c01b"
      },
      "execution_count": 11,
      "outputs": [
        {
          "output_type": "stream",
          "name": "stdout",
          "text": [
            "✅ Clean notebook saved: /content/TextToImageGeneration_CLEAN.ipynb\n"
          ]
        }
      ]
    }
  ]
}